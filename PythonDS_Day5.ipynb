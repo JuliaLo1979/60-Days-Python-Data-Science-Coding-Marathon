{
 "cells": [
  {
   "cell_type": "code",
   "execution_count": 9,
   "metadata": {},
   "outputs": [
    {
     "name": "stdout",
     "output_type": "stream",
     "text": [
      "English has no nan\n",
      "平均: 67.16666666666667\n",
      "最大值: 89\n",
      "最小值: 48\n",
      "標準差: 13.433995020924426\n",
      "\n",
      "\n",
      "math has nan\n",
      "平均: 66.6\n",
      "最大值: 85.0\n",
      "最小值: 60.0\n",
      "標準差: 9.707728879609279\n",
      "\n",
      "\n",
      "chinese has no nan\n",
      "平均: 75.33333333333333\n",
      "最大值: 90\n",
      "最小值: 65\n",
      "標準差: 8.825468196582484\n"
     ]
    }
   ],
   "source": [
    "import numpy as np\n",
    "\n",
    "#scores for 6 students\n",
    "english_score = np.array([55,89,76,65,48,70])\n",
    "math_score = np.array([60,85,60,68,np.nan,60])\n",
    "chinese_score = np.array([65,90,82,72,66,77])\n",
    "\n",
    "#English\n",
    "if np.isnan(english_score).sum() == 0:\n",
    "    print('English has no nan')\n",
    "    print('平均:', np.mean(english_score))\n",
    "    print('最大值:', np.amax(english_score))\n",
    "    print('最小值:', np.amin(english_score))\n",
    "    print('標準差:', np.std(english_score))\n",
    "else:\n",
    "    print('English has nan')\n",
    "    print('平均:', np.nanmean(english_score))\n",
    "    print('最大值:', np.nanmax(english_score))\n",
    "    print('最小值:', np.nanmin(english_score))\n",
    "    print('標準差:', np.nanstd(english_score))\n",
    "print() \n",
    "\n",
    "#math\n",
    "if np.isnan(math_score).sum() == 0:\n",
    "    print('math has no nan')\n",
    "    print('平均:', np.mean(math_score))\n",
    "    print('最大值:', np.amax(math_score))\n",
    "    print('最小值:', np.amin(math_score))\n",
    "    print('標準差:', np.std(math_score))\n",
    "else:\n",
    "    print('math has nan')\n",
    "    print('平均:', np.nanmean(math_score))\n",
    "    print('最大值:', np.nanmax(math_score))\n",
    "    print('最小值:', np.nanmin(math_score))\n",
    "    print('標準差:', np.nanstd(math_score))\n",
    "print() \n",
    "\n",
    "#chinese\n",
    "if np.isnan(chinese_score).sum() == 0:\n",
    "    print('chinese has no nan')\n",
    "    print('平均:', np.mean(chinese_score))\n",
    "    print('最大值:', np.amax(chinese_score))\n",
    "    print('最小值:', np.amin(chinese_score))\n",
    "    print('標準差:', np.std(chinese_score))\n",
    "else:\n",
    "    print('chinese has nan')\n",
    "    print('平均:', np.nanmean(chinese_score))\n",
    "    print('最大值:', np.nanmax(chinese_score))\n",
    "    print('最小值:', np.nanmin(chinese_score))\n",
    "    print('標準差:', np.nanstd(chinese_score))\n"
   ]
  },
  {
   "cell_type": "code",
   "execution_count": 10,
   "metadata": {},
   "outputs": [
    {
     "data": {
      "text/plain": [
       "array([60., 85., 60., 68., 55., 60.])"
      ]
     },
     "execution_count": 10,
     "metadata": {},
     "output_type": "execute_result"
    }
   ],
   "source": [
    "math_score[4] = 55\n",
    "math_score"
   ]
  },
  {
   "cell_type": "code",
   "execution_count": 12,
   "metadata": {},
   "outputs": [
    {
     "name": "stdout",
     "output_type": "stream",
     "text": [
      "math has no nan\n",
      "平均: 64.66666666666667\n",
      "最大值: 85.0\n",
      "最小值: 55.0\n",
      "標準差: 9.860132971832694\n",
      "\n"
     ]
    }
   ],
   "source": [
    "#math\n",
    "if np.isnan(math_score).sum() == 0:\n",
    "    print('math has no nan')\n",
    "    print('平均:', np.mean(math_score))\n",
    "    print('最大值:', np.amax(math_score))\n",
    "    print('最小值:', np.amin(math_score))\n",
    "    print('標準差:', np.std(math_score))\n",
    "else:\n",
    "    print('math has nan')\n",
    "    print('平均:', np.nanmean(math_score))\n",
    "    print('最大值:', np.nanmax(math_score))\n",
    "    print('最小值:', np.nanmin(math_score))\n",
    "    print('標準差:', np.nanstd(math_score))\n",
    "print() "
   ]
  },
  {
   "cell_type": "code",
   "execution_count": 16,
   "metadata": {},
   "outputs": [
    {
     "name": "stdout",
     "output_type": "stream",
     "text": [
      "[[1.         0.97792828]\n",
      " [0.97792828 1.        ]]\n",
      "[[1.         0.74056803]\n",
      " [0.74056803 1.        ]]\n",
      "與國文成績相關係數最高的學科是英文\n"
     ]
    }
   ],
   "source": [
    "a = np.corrcoef(chinese_score, english_score)\n",
    "b = np.corrcoef(chinese_score, math_score)\n",
    "print(a)\n",
    "print(b)\n",
    "\n",
    "if a[0,1]>b[0,1]:\n",
    "    print('與國文成績相關係數最高的學科是英文')\n",
    "else:\n",
    "    print('與國文成績相關係數最高的學科是數學')"
   ]
  },
  {
   "cell_type": "code",
   "execution_count": null,
   "metadata": {},
   "outputs": [],
   "source": []
  }
 ],
 "metadata": {
  "kernelspec": {
   "display_name": "Python 3",
   "language": "python",
   "name": "python3"
  },
  "language_info": {
   "codemirror_mode": {
    "name": "ipython",
    "version": 3
   },
   "file_extension": ".py",
   "mimetype": "text/x-python",
   "name": "python",
   "nbconvert_exporter": "python",
   "pygments_lexer": "ipython3",
   "version": "3.7.4"
  }
 },
 "nbformat": 4,
 "nbformat_minor": 4
}
