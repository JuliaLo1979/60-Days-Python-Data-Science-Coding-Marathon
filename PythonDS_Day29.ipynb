{
 "cells": [
  {
   "cell_type": "code",
   "execution_count": 3,
   "metadata": {},
   "outputs": [
    {
     "name": "stdout",
     "output_type": "stream",
     "text": [
      "0.8413447460685429\n"
     ]
    }
   ],
   "source": [
    "# library\n",
    "import matplotlib.pyplot as plt\n",
    "import numpy as np\n",
    "import pandas as pd\n",
    "from scipy import stats\n",
    "import math\n",
    "import statistics\n",
    "import seaborn as sns\n",
    "\n",
    "#Q1:計算標準常態分配，小於1的機率有多大?\n",
    "mu=0\n",
    "sigma=1\n",
    "cumsum_1_probs =  stats.norm.cdf(1,mu, sigma)\n",
    "print(cumsum_1_probs)"
   ]
  },
  {
   "cell_type": "code",
   "execution_count": 5,
   "metadata": {},
   "outputs": [
    {
     "name": "stdout",
     "output_type": "stream",
     "text": [
      "0.31731050786291415\n"
     ]
    }
   ],
   "source": [
    "#Q2:計算標準常態分配，大於1，小於 -1 的機率有多大?\n",
    "cumsum_1_probs =  stats.norm.cdf(1,mu, sigma)\n",
    "cumsum_m1_probs =  stats.norm.cdf(-1,mu, sigma)\n",
    "q2_probs = 1-cumsum_1_probs + cumsum_m1_probs\n",
    "print(q2_probs)"
   ]
  },
  {
   "cell_type": "code",
   "execution_count": 8,
   "metadata": {},
   "outputs": [
    {
     "name": "stdout",
     "output_type": "stream",
     "text": [
      "0.9772498680518208\n"
     ]
    }
   ],
   "source": [
    "#Q3:X~N(2,4),x 服從常態分配，平均數為2,變異數為 4，計算 X小於 6 的機率有多大?\n",
    "\n",
    "cumsum_6_probs =  stats.norm(2,4**1/2).cdf(6)\n",
    "print(cumsum_6_probs)"
   ]
  },
  {
   "cell_type": "code",
   "execution_count": null,
   "metadata": {},
   "outputs": [],
   "source": []
  }
 ],
 "metadata": {
  "kernelspec": {
   "display_name": "Python 3",
   "language": "python",
   "name": "python3"
  },
  "language_info": {
   "codemirror_mode": {
    "name": "ipython",
    "version": 3
   },
   "file_extension": ".py",
   "mimetype": "text/x-python",
   "name": "python",
   "nbconvert_exporter": "python",
   "pygments_lexer": "ipython3",
   "version": "3.7.4"
  }
 },
 "nbformat": 4,
 "nbformat_minor": 4
}
