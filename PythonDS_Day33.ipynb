{
 "cells": [
  {
   "cell_type": "code",
   "execution_count": 6,
   "metadata": {},
   "outputs": [
    {
     "data": {
      "text/plain": [
       "(4.834937784152282, 1.3318728439003627e-06)"
      ]
     },
     "execution_count": 6,
     "metadata": {},
     "output_type": "execute_result"
    }
   ],
   "source": [
    "'''\n",
    "α = 0.05\n",
    "H0:兩條不同的生產線的產品不良率相同(Pa-Pb = 0)\n",
    "H1:兩條不同的生產線的產品不良率不同(Pa-Pb !=0)\n",
    "'''\n",
    "# library\n",
    "import statsmodels.stats.proportion\n",
    "\n",
    "A = [75,30] # Line 1\n",
    "B = [300,300] #Line 2\n",
    "statsmodels.stats.proportion.proportions_ztest(A, B, alternative='two-sided')"
   ]
  },
  {
   "cell_type": "code",
   "execution_count": null,
   "metadata": {},
   "outputs": [],
   "source": [
    "'''\n",
    "P-value = 0.000001 < 0.05\n",
    "故拒絕H0, 兩條不同的生產線的產品不良率不同\n",
    "'''"
   ]
  },
  {
   "cell_type": "code",
   "execution_count": 7,
   "metadata": {},
   "outputs": [
    {
     "data": {
      "text/plain": [
       "(-2.1110016546037453, 0.017386084821968198)"
      ]
     },
     "execution_count": 7,
     "metadata": {},
     "output_type": "execute_result"
    }
   ],
   "source": [
    "#作業 2：你的工作，有需要 A/B test 幫你做決定？\n",
    "'''\n",
    "如:設計2種UI雛形,客戶較喜歡哪一種?\n",
    "\n",
    "1.確認目的:向客戶呈現較佳的UI設計，以爭取專案機會\n",
    "2.實驗設計:2個UI直接呈現\n",
    "3.建立假設:擬希望實驗有足夠的證據，證明I2比I1好\n",
    "4.隨機分配:將公司同事隨機分成2組,每組50人,各給1個UI,看他們喜歡不喜歡\n",
    "5.實驗結果分析 -\n",
    "假設I1 有12個喜歡,I2有22個喜歡\n",
    "\n",
    "H0:PI1>=PI2\n",
    "H1:PI1<PI2\n",
    "\n",
    "'''\n",
    "# library\n",
    "import statsmodels.stats.proportion\n",
    "\n",
    "A = [12,22] # Line 1\n",
    "B = [50,50] #Line 2\n",
    "statsmodels.stats.proportion.proportions_ztest(A, B, alternative='smaller')"
   ]
  },
  {
   "cell_type": "code",
   "execution_count": null,
   "metadata": {},
   "outputs": [],
   "source": [
    "'''P-value = 0.01 <0.05 ,在顯著水準0.05時, UI2較好'''"
   ]
  }
 ],
 "metadata": {
  "kernelspec": {
   "display_name": "Python 3",
   "language": "python",
   "name": "python3"
  },
  "language_info": {
   "codemirror_mode": {
    "name": "ipython",
    "version": 3
   },
   "file_extension": ".py",
   "mimetype": "text/x-python",
   "name": "python",
   "nbconvert_exporter": "python",
   "pygments_lexer": "ipython3",
   "version": "3.7.4"
  }
 },
 "nbformat": 4,
 "nbformat_minor": 4
}
