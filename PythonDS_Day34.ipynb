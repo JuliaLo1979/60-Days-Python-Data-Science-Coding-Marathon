{
 "cells": [
  {
   "cell_type": "code",
   "execution_count": null,
   "metadata": {},
   "outputs": [],
   "source": [
    "'''\n",
    "今天課程中以一個案例，說明資料分析的流程與探索性分析，是否對於課程中一開始的問題，更有想法了?!\n",
    "Q1: 哪一個問題不適合用資料科學解決?\n",
    "Q2: 以你的角度來分析，為什麼這樣的問題，較不適合用資料來解決?\n",
    "將答案寫在論壇中，大家一起互相討論激盪。\n",
    "'''\n",
    "1.1 Q1: 哪一個問題不適合用資料科學解決?\n",
    "\n",
    "挑選 Mr./Ms. Right\n",
    "\n",
    "1.2 Q2:以你的角度來分析，為什麼這樣的問題，較不適合用資料來解決?\n",
    "\n",
    "A.無法關聯\n",
    "資料分析(迴歸或變數分析)都要由歷史資料來看，\n",
    "但前任就表示不合適，所以無法關聯到Ｍr./Ms. \"Right\"。\n",
    "\n",
    "B.資料量不足\n",
    "也許能知道一個人特別喜歡的特質，\n",
    "但應該也難有規模到統計顯著，\n",
    "亦不適合用大眾的偏好，來預測個人的情感喜好。"
   ]
  }
 ],
 "metadata": {
  "kernelspec": {
   "display_name": "Python 3",
   "language": "python",
   "name": "python3"
  },
  "language_info": {
   "codemirror_mode": {
    "name": "ipython",
    "version": 3
   },
   "file_extension": ".py",
   "mimetype": "text/x-python",
   "name": "python",
   "nbconvert_exporter": "python",
   "pygments_lexer": "ipython3",
   "version": "3.7.4"
  }
 },
 "nbformat": 4,
 "nbformat_minor": 4
}
