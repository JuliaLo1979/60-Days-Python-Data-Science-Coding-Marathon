{
 "cells": [
  {
   "cell_type": "code",
   "execution_count": 20,
   "metadata": {},
   "outputs": [
    {
     "name": "stdout",
     "output_type": "stream",
     "text": [
      "0.07958923738717888\n",
      "[57 51 55 44 49 50 50 51 42 46 43 47 55 42 56 52 41 44 49 55 56 48 53 54\n",
      " 42 54 53 52 44 47 43 50 48 52 56 47 43 45 55 54 38 55 50 54 54 62 43 45\n",
      " 50 40 51 43 51 51 50 44 57 41 53 47 53 58 45 48 51 50 45 56 49 51 55 45\n",
      " 45 57 46 60 45 49 55 55 50 50 44 55 44 52 42 52 53 45 48 47 53 47 42 59\n",
      " 47 49 55 58]\n"
     ]
    }
   ],
   "source": [
    "# library\n",
    "import matplotlib.pyplot as plt\n",
    "from scipy import stats\n",
    "import statistics\n",
    "\n",
    "p = 0.5 # 正面出現機率\n",
    "n = 100  # 重複實驗100次\n",
    "r = 50\n",
    "\n",
    "# 計算二項分佈的概率質量分佈 (probability mass function)\n",
    "probs = stats.binom.pmf(r,n,p)\n",
    "print(probs)"
   ]
  },
  {
   "cell_type": "code",
   "execution_count": null,
   "metadata": {},
   "outputs": [],
   "source": []
  }
 ],
 "metadata": {
  "kernelspec": {
   "display_name": "Python 3",
   "language": "python",
   "name": "python3"
  },
  "language_info": {
   "codemirror_mode": {
    "name": "ipython",
    "version": 3
   },
   "file_extension": ".py",
   "mimetype": "text/x-python",
   "name": "python",
   "nbconvert_exporter": "python",
   "pygments_lexer": "ipython3",
   "version": "3.7.4"
  }
 },
 "nbformat": 4,
 "nbformat_minor": 4
}
