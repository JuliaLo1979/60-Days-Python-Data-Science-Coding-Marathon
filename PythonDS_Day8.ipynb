{
 "cells": [
  {
   "cell_type": "code",
   "execution_count": 8,
   "metadata": {},
   "outputs": [
    {
     "data": {
      "text/plain": [
       "array([('小明', 'boy', 67.5, 8,  True), ('小華', 'boy', 75.3, 1,  True),\n",
       "       ('小菁', 'girl', 50.1, 5, False), ('小美', 'girl', 45.5, 4, False),\n",
       "       ('小張', 'boy', 80.8, 7,  True), ('John', 'boy', 90.4, 6,  True),\n",
       "       ('Mark', 'boy', 78.4, 2, False), ('Tom', 'boy', 70.7, 3, False)],\n",
       "      dtype=[('name', '<U5'), ('sex', '<U5'), ('weight', '<f8'), ('rank', '<i4'), ('myopia', '?')])"
      ]
     },
     "execution_count": 8,
     "metadata": {},
     "output_type": "execute_result"
    }
   ],
   "source": [
    "import numpy as np\n",
    "\n",
    "#Givern Data\n",
    "name_list = ['小明','小華','小菁','小美','小張','John','Mark','Tom']\n",
    "sex_list = ['boy','boy','girl','girl','boy','boy','boy','boy']\n",
    "weight_list = [67.5,75.3,50.1,45.5,80.8,90.4,78.4,70.7]\n",
    "rank_list = [8,1,5,4,7,6,2,3]\n",
    "myopia_list = [True,True,False,False,True,True,False,False]\n",
    "\n",
    "#define columns and datatypes\n",
    "dt = np.dtype({'names':('name', 'sex', 'weight', 'rank', 'myopia'), 'formats':((np.str_, 5),(np.str_, 5),float,int,bool)})\n",
    "\n",
    "c = np.zeros(8, dtype = dt)\n",
    "c['name'] = name_list\n",
    "c['sex'] = sex_list\n",
    "c['weight'] = weight_list\n",
    "c['rank'] = rank_list\n",
    "c['myopia'] = myopia_list\n",
    "c\n"
   ]
  },
  {
   "cell_type": "code",
   "execution_count": 11,
   "metadata": {},
   "outputs": [
    {
     "name": "stdout",
     "output_type": "stream",
     "text": [
      "Average weight is:  69.8375\n",
      "\n"
     ]
    }
   ],
   "source": [
    "weightAverage = np.average(c['weight'])\n",
    "print('Average weight is: ',weightAverage)\n",
    "print()"
   ]
  },
  {
   "cell_type": "code",
   "execution_count": 14,
   "metadata": {},
   "outputs": [
    {
     "name": "stdout",
     "output_type": "stream",
     "text": [
      "Boys-average weight is:  77.18333333333332\n",
      "\n",
      "Girls-average weight is:  47.8\n"
     ]
    }
   ],
   "source": [
    "bWeightAverage = np.average(c[c['sex'] == 'boy']['weight'])\n",
    "print('Boys-average weight is: ',bWeightAverage)\n",
    "print()\n",
    "gWeightAverage = np.average(c[c['sex'] == 'girl']['weight'])\n",
    "print('Girls-average weight is: ',gWeightAverage)"
   ]
  },
  {
   "cell_type": "code",
   "execution_count": null,
   "metadata": {},
   "outputs": [],
   "source": []
  }
 ],
 "metadata": {
  "kernelspec": {
   "display_name": "Python 3",
   "language": "python",
   "name": "python3"
  },
  "language_info": {
   "codemirror_mode": {
    "name": "ipython",
    "version": 3
   },
   "file_extension": ".py",
   "mimetype": "text/x-python",
   "name": "python",
   "nbconvert_exporter": "python",
   "pygments_lexer": "ipython3",
   "version": "3.7.4"
  }
 },
 "nbformat": 4,
 "nbformat_minor": 4
}
