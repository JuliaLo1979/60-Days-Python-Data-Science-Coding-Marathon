{
 "cells": [
  {
   "cell_type": "code",
   "execution_count": 1,
   "metadata": {},
   "outputs": [
    {
     "data": {
      "text/plain": [
       "3"
      ]
     },
     "execution_count": 1,
     "metadata": {},
     "output_type": "execute_result"
    }
   ],
   "source": [
    "import numpy as np\n",
    "\n",
    "# 6 students' grades of English, math, chinese  \n",
    "english_score = np.array([55,89,76,65,48,70])\n",
    "math_score = np.array([60,85,60,68,55,60])\n",
    "chinese_score = np.array([65,90,82,72,66,77])\n",
    "\n",
    "english_better = np.greater(english_score, math_score)\n",
    "np.sum(english_better == True)"
   ]
  },
  {
   "cell_type": "code",
   "execution_count": 7,
   "metadata": {},
   "outputs": [
    {
     "name": "stdout",
     "output_type": "stream",
     "text": [
      "全班同學最高分都是國文\n"
     ]
    }
   ],
   "source": [
    "# Check chineses scores highest\n",
    "chinese_best = np.greater(chinese_score, [english_score, math_score])\n",
    "if np.any(chinese_best) == False:\n",
    "    print('全班同學最高分不都是國文')\n",
    "else:\n",
    "    print('全班同學最高分都是國文')"
   ]
  },
  {
   "cell_type": "code",
   "execution_count": null,
   "metadata": {},
   "outputs": [],
   "source": []
  }
 ],
 "metadata": {
  "kernelspec": {
   "display_name": "Python 3",
   "language": "python",
   "name": "python3"
  },
  "language_info": {
   "codemirror_mode": {
    "name": "ipython",
    "version": 3
   },
   "file_extension": ".py",
   "mimetype": "text/x-python",
   "name": "python",
   "nbconvert_exporter": "python",
   "pygments_lexer": "ipython3",
   "version": "3.7.4"
  }
 },
 "nbformat": 4,
 "nbformat_minor": 4
}
