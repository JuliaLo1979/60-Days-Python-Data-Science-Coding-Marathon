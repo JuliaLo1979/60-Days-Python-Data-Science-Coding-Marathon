{
 "cells": [
  {
   "cell_type": "code",
   "execution_count": 6,
   "metadata": {},
   "outputs": [
    {
     "name": "stdout",
     "output_type": "stream",
     "text": [
      "0.00000007151123842019\n"
     ]
    }
   ],
   "source": [
    "# library\n",
    "import numpy as np\n",
    "from scipy import stats\n",
    "import statistics\n",
    "\n",
    "#1.超幾何分配\n",
    "# 1.定義超幾何分配的基本資訊\n",
    "k=6\n",
    "M=49\n",
    "n=6\n",
    "N=6\n",
    "\n",
    "\n",
    "# 2.計算機率質量函數 (probability mass function)\n",
    "#機率約為0.0000000715...\n",
    "probs = stats.hypergeom.pmf(k,M,n,N)\n",
    "print(format(probs,'.20f'))\n",
    "\n",
    "#3.一樣"
   ]
  },
  {
   "cell_type": "code",
   "execution_count": null,
   "metadata": {},
   "outputs": [],
   "source": []
  }
 ],
 "metadata": {
  "kernelspec": {
   "display_name": "Python 3",
   "language": "python",
   "name": "python3"
  },
  "language_info": {
   "codemirror_mode": {
    "name": "ipython",
    "version": 3
   },
   "file_extension": ".py",
   "mimetype": "text/x-python",
   "name": "python",
   "nbconvert_exporter": "python",
   "pygments_lexer": "ipython3",
   "version": "3.7.4"
  }
 },
 "nbformat": 4,
 "nbformat_minor": 4
}
